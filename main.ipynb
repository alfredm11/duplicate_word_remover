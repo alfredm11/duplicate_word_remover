{
 "cells": [
  {
   "cell_type": "code",
   "execution_count": 21,
   "metadata": {},
   "outputs": [],
   "source": [
    "# Let's import some functions\n",
    "from functions import *"
   ]
  },
  {
   "cell_type": "code",
   "execution_count": 22,
   "metadata": {},
   "outputs": [],
   "source": [
    "# Let's put our file into a variable\n",
    "text_file = \"test.txt\""
   ]
  },
  {
   "cell_type": "code",
   "execution_count": 23,
   "metadata": {},
   "outputs": [],
   "source": [
    "# Let's open it and put it in content variable\n",
    "with open(text_file) as f:\n",
    "    content = f.readlines()"
   ]
  },
  {
   "cell_type": "code",
   "execution_count": 24,
   "metadata": {},
   "outputs": [],
   "source": [
    "# Because our content is a list we must convert it into string and put it in text variable\n",
    "text = \"\".join(content)"
   ]
  },
  {
   "cell_type": "code",
   "execution_count": 26,
   "metadata": {},
   "outputs": [
    {
     "ename": "TypeError",
     "evalue": "expected string or bytes-like object",
     "output_type": "error",
     "traceback": [
      "\u001b[1;31m---------------------------------------------------------------------------\u001b[0m",
      "\u001b[1;31mTypeError\u001b[0m                                 Traceback (most recent call last)",
      "\u001b[1;32mc:\\Users\\alipe\\OneDrive\\Documents\\GitHub\\duplicate_word_remover\\main.ipynb Cell 5\u001b[0m line \u001b[0;36m2\n\u001b[0;32m      <a href='vscode-notebook-cell:/c%3A/Users/alipe/OneDrive/Documents/GitHub/duplicate_word_remover/main.ipynb#W4sZmlsZQ%3D%3D?line=0'>1</a>\u001b[0m \u001b[39m# Let's now remove the duplicate words and put it in cleaned_text variable\u001b[39;00m\n\u001b[1;32m----> <a href='vscode-notebook-cell:/c%3A/Users/alipe/OneDrive/Documents/GitHub/duplicate_word_remover/main.ipynb#W4sZmlsZQ%3D%3D?line=1'>2</a>\u001b[0m cleaned_text \u001b[39m=\u001b[39m remove_duplicate(text)\n",
      "File \u001b[1;32mc:\\Users\\alipe\\OneDrive\\Documents\\GitHub\\duplicate_word_remover\\functions.py:14\u001b[0m, in \u001b[0;36mremove_duplicate\u001b[1;34m(text)\u001b[0m\n\u001b[0;32m     11\u001b[0m matches \u001b[39m=\u001b[39m pattern\u001b[39m.\u001b[39mfinditer(text)\n\u001b[0;32m     13\u001b[0m sub_words \u001b[39m=\u001b[39m pattern\u001b[39m.\u001b[39msub(\u001b[39mr\u001b[39m\u001b[39m'\u001b[39m\u001b[39m\\\u001b[39m\u001b[39m1\u001b[39m\u001b[39m'\u001b[39m, text)\n\u001b[1;32m---> 14\u001b[0m \u001b[39mreturn\u001b[39;00m remove_duplicate_1comma(remove_duplicate_2_comma(remove_duplicate_apostrophe(sub_words)))\n",
      "File \u001b[1;32mc:\\Users\\alipe\\OneDrive\\Documents\\GitHub\\duplicate_word_remover\\functions.py:33\u001b[0m, in \u001b[0;36mremove_duplicate_2_comma\u001b[1;34m(text)\u001b[0m\n\u001b[0;32m     28\u001b[0m \u001b[39m\u001b[39m\u001b[39m'''\u001b[39;00m\n\u001b[0;32m     29\u001b[0m \u001b[39m    Removes duplicated words with comma.\u001b[39;00m\n\u001b[0;32m     30\u001b[0m \u001b[39m    Example: (in, in, in), (very, very, very)\u001b[39;00m\n\u001b[0;32m     31\u001b[0m \u001b[39m'''\u001b[39;00m\n\u001b[0;32m     32\u001b[0m pattern \u001b[39m=\u001b[39m re\u001b[39m.\u001b[39mcompile(\u001b[39mr\u001b[39m\u001b[39m'\u001b[39m\u001b[39m(\u001b[39m\u001b[39m\\\u001b[39m\u001b[39mw+\u001b[39m\u001b[39m\\\u001b[39m\u001b[39m,)\u001b[39m\u001b[39m\\\u001b[39m\u001b[39ms\u001b[39m\u001b[39m\\\u001b[39m\u001b[39m1\u001b[39m\u001b[39m\\\u001b[39m\u001b[39ms(\u001b[39m\u001b[39m\\\u001b[39m\u001b[39mw+)\u001b[39m\u001b[39m'\u001b[39m, flags\u001b[39m=\u001b[39mre\u001b[39m.\u001b[39mIGNORECASE)\n\u001b[1;32m---> 33\u001b[0m matches \u001b[39m=\u001b[39m pattern\u001b[39m.\u001b[39;49mfinditer(text)\n\u001b[0;32m     35\u001b[0m sub_words \u001b[39m=\u001b[39m pattern\u001b[39m.\u001b[39msub(\u001b[39mr\u001b[39m\u001b[39m'\u001b[39m\u001b[39m\\\u001b[39m\u001b[39m2\u001b[39m\u001b[39m'\u001b[39m, text)\n\u001b[0;32m     36\u001b[0m \u001b[39mreturn\u001b[39;00m sub_words\n",
      "\u001b[1;31mTypeError\u001b[0m: expected string or bytes-like object"
     ]
    }
   ],
   "source": [
    "# Let's now remove the duplicate words and put it in cleaned_text variable\n",
    "cleaned_text = remove_duplicate(text)"
   ]
  },
  {
   "cell_type": "code",
   "execution_count": null,
   "metadata": {},
   "outputs": [
    {
     "ename": "TypeError",
     "evalue": "'NoneType' object is not iterable",
     "output_type": "error",
     "traceback": [
      "\u001b[1;31m---------------------------------------------------------------------------\u001b[0m",
      "\u001b[1;31mTypeError\u001b[0m                                 Traceback (most recent call last)",
      "\u001b[1;32mc:\\Users\\alipe\\OneDrive\\Documents\\GitHub\\duplicate_word_remover\\main.ipynb Cell 6\u001b[0m line \u001b[0;36m3\n\u001b[0;32m      <a href='vscode-notebook-cell:/c%3A/Users/alipe/OneDrive/Documents/GitHub/duplicate_word_remover/main.ipynb#W5sZmlsZQ%3D%3D?line=0'>1</a>\u001b[0m \u001b[39m# Let's now wirte our string of text into a new file.\u001b[39;00m\n\u001b[0;32m      <a href='vscode-notebook-cell:/c%3A/Users/alipe/OneDrive/Documents/GitHub/duplicate_word_remover/main.ipynb#W5sZmlsZQ%3D%3D?line=1'>2</a>\u001b[0m \u001b[39mwith\u001b[39;00m \u001b[39mopen\u001b[39m(\u001b[39m\"\u001b[39m\u001b[39mcleaned_test_file\u001b[39m\u001b[39m\"\u001b[39m, \u001b[39m\"\u001b[39m\u001b[39mw\u001b[39m\u001b[39m\"\u001b[39m) \u001b[39mas\u001b[39;00m f:\n\u001b[1;32m----> <a href='vscode-notebook-cell:/c%3A/Users/alipe/OneDrive/Documents/GitHub/duplicate_word_remover/main.ipynb#W5sZmlsZQ%3D%3D?line=2'>3</a>\u001b[0m     \u001b[39mfor\u001b[39;00m line \u001b[39min\u001b[39;00m cleaned_text:\n\u001b[0;32m      <a href='vscode-notebook-cell:/c%3A/Users/alipe/OneDrive/Documents/GitHub/duplicate_word_remover/main.ipynb#W5sZmlsZQ%3D%3D?line=3'>4</a>\u001b[0m         f\u001b[39m.\u001b[39mwrite(line)\n",
      "\u001b[1;31mTypeError\u001b[0m: 'NoneType' object is not iterable"
     ]
    }
   ],
   "source": [
    "# Let's now wirte our string of text into a new file.\n",
    "with open(\"cleaned_test_file\", \"w\") as f:\n",
    "    for line in cleaned_text:\n",
    "        f.write(line)\n",
    "        "
   ]
  }
 ],
 "metadata": {
  "kernelspec": {
   "display_name": "base",
   "language": "python",
   "name": "python3"
  },
  "language_info": {
   "codemirror_mode": {
    "name": "ipython",
    "version": 3
   },
   "file_extension": ".py",
   "mimetype": "text/x-python",
   "name": "python",
   "nbconvert_exporter": "python",
   "pygments_lexer": "ipython3",
   "version": "3.10.13"
  }
 },
 "nbformat": 4,
 "nbformat_minor": 2
}
